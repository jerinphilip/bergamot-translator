{
 "cells": [
  {
   "cell_type": "markdown",
   "id": "29a5d0b4",
   "metadata": {},
   "source": [
    "## Analysis: Where are the unknowns pointing?"
   ]
  },
  {
   "cell_type": "markdown",
   "id": "cd119440",
   "metadata": {},
   "source": [
    "### Data downloads and setup"
   ]
  },
  {
   "cell_type": "code",
   "execution_count": 3,
   "id": "c490b714",
   "metadata": {},
   "outputs": [],
   "source": [
    "import yaml\n",
    "import os\n",
    "import argparse\n",
    "import sys\n",
    "from collections import Counter\n",
    "from collections import defaultdict"
   ]
  },
  {
   "cell_type": "code",
   "execution_count": 4,
   "id": "bcd83a46",
   "metadata": {},
   "outputs": [],
   "source": [
    "sys.path.insert(0, \"../build\")"
   ]
  },
  {
   "cell_type": "code",
   "execution_count": 5,
   "id": "7832a562",
   "metadata": {},
   "outputs": [],
   "source": [
    "import pybergamot\n",
    "from pybergamot import Service, Response, ResponseOptions"
   ]
  },
  {
   "cell_type": "code",
   "execution_count": 6,
   "id": "0b840cde",
   "metadata": {},
   "outputs": [],
   "source": [
    "def build_config(BERGAMOT_ARCHIVE):   \n",
    "    config = {\n",
    "       \"models\": [os.path.join(BERGAMOT_ARCHIVE, \"model.intgemm.alphas.bin\")],\n",
    "       \"shortlist\": [os.path.join(BERGAMOT_ARCHIVE, \"lex.s2t.bin\"), True, 50, 50],\n",
    "       \"vocabs\": [\n",
    "           os.path.join(BERGAMOT_ARCHIVE, \"vocab.deen.spm\"),\n",
    "           os.path.join(BERGAMOT_ARCHIVE, \"vocab.deen.spm\"),\n",
    "           ],\n",
    "       \"ssplit-prefix-file\": os.path.join(BERGAMOT_ARCHIVE, \"nonbreaking_prefix.en\"),\n",
    "       \"max-length-break\": 128,\n",
    "       \"mini-batch-words\": 1024,\n",
    "       \"workspace\": 128,\n",
    "       \"skip-cost\": True,\n",
    "       \"cpu-threads\": 40,\n",
    "       \"quiet\": True,\n",
    "       \"quiet-translation\": True,\n",
    "       \"gemm-precision\": \"int8shiftAlphaAll\",\n",
    "       \"alignment\": True,\n",
    "       \"allow-unk\": True,\n",
    "       \"log\": \"unk-analyis.log\",\n",
    "       \"log-level\": \"debug\"\n",
    "    }\n",
    "    return config"
   ]
  },
  {
   "cell_type": "code",
   "execution_count": 7,
   "id": "12944c90",
   "metadata": {},
   "outputs": [],
   "source": [
    "def build_service(bergamot_path):\n",
    "    config = build_config(bergamot_path)\n",
    "    configStr = yaml.dump(config, sort_keys=False)\n",
    "    service = Service(configStr)\n",
    "    return service"
   ]
  },
  {
   "cell_type": "code",
   "execution_count": 8,
   "id": "a4dc7030",
   "metadata": {},
   "outputs": [],
   "source": [
    "ENDE_BUNDLE = '../bergamot-translator-tests/models/deen/ende.student.tiny.for.regression.tests/'"
   ]
  },
  {
   "cell_type": "markdown",
   "id": "8d2bb92c",
   "metadata": {},
   "source": [
    "## Analysis: Unknowns on MTNT"
   ]
  },
  {
   "cell_type": "code",
   "execution_count": 48,
   "id": "a16fc9b4",
   "metadata": {},
   "outputs": [],
   "source": [
    "class Analyzer:\n",
    "    def __init__(self, service, options):\n",
    "        self.service = service\n",
    "        self.opts = options\n",
    "        \n",
    "    def unk_mappings(self, content):\n",
    "        mappings = defaultdict(list)\n",
    "        response = self.service.translate(content, self.opts)\n",
    "        for sentenceIdx, alignment in enumerate(response.alignments):\n",
    "            for point in alignment:\n",
    "                sbr = response.source.word(sentenceIdx, point.src)\n",
    "                tbr = response.target.word(sentenceIdx, point.tgt)\n",
    "                if response.source.isUnknown(sentenceIdx, point.src):\n",
    "                    mappings[sbr].append(tbr)\n",
    "\n",
    "        return mappings   \n",
    "    \n",
    "    def df(self, unk_mappings):\n",
    "        global_counter = Counter()\n",
    "        for k in unk_mappings:\n",
    "            global_counter += Counter(global_d[k])\n",
    "\n",
    "        dfdict = {}\n",
    "        dfdict[\"names\"] = list(global_counter.keys())\n",
    "        dfdict[\"occurences\"] = list(global_counter.values())\n",
    "        df = pd.DataFrame(dfdict)\n",
    "        sorted_df = df.sort_values(by=['occurences'], ascending=False).head(50)\n",
    "        return sorted_df\n",
    "        \n",
    "    def ipydisplay(self, df):\n",
    "        from IPython.display import display, HTML\n",
    "        return display(HTML(df.to_html(index=False)))\n"
   ]
  },
  {
   "cell_type": "code",
   "execution_count": 14,
   "id": "c1fc9ada",
   "metadata": {},
   "outputs": [],
   "source": [
    "def mtnt_parallel_en(lang='fr'):\n",
    "    import pandas as pd\n",
    "    data = pd.read_csv('MTNT/train/train.en-{}.tsv'.format(lang), sep='\\t', \n",
    "                       error_bad_lines=False, names=['No', 'src', 'tgt'])\n",
    "    size = data.size\n",
    "    source_lines = data['src'].values\n",
    "    return '\\n'.join(source_lines)\n",
    "\n",
    "def mtnt_monolingual():\n",
    "    source_lines = []\n",
    "    with open('MTNT/monolingual/train.en') as fp:\n",
    "        source_lines = fp.read().splitlines()\n",
    "    return '\\n'.join(source_lines)"
   ]
  },
  {
   "cell_type": "code",
   "execution_count": 50,
   "id": "04eb59da",
   "metadata": {},
   "outputs": [],
   "source": [
    "service = build_service(ENDE_BUNDLE)\n",
    "\n",
    "options = ResponseOptions();\n",
    "options.alignment = True\n",
    "options.qualityScores = True\n",
    "options.alignmentThreshold = 0.2\n",
    "analyzer = Analyzer(service, options)"
   ]
  },
  {
   "cell_type": "code",
   "execution_count": null,
   "id": "8ff32afe",
   "metadata": {},
   "outputs": [],
   "source": [
    "data = mtnt_parallel_en()\n",
    "analyzer.unk_mappings(data)"
   ]
  },
  {
   "cell_type": "code",
   "execution_count": null,
   "id": "d06b77bb",
   "metadata": {},
   "outputs": [],
   "source": []
  },
  {
   "cell_type": "code",
   "execution_count": 19,
   "id": "69fee38c",
   "metadata": {
    "scrolled": true
   },
   "outputs": [
    {
     "ename": "NameError",
     "evalue": "name 'unique_unks' is not defined",
     "output_type": "error",
     "traceback": [
      "\u001b[0;31m---------------------------------------------------------------------------\u001b[0m",
      "\u001b[0;31mNameError\u001b[0m                                 Traceback (most recent call last)",
      "\u001b[0;32m<ipython-input-19-106c4db763c8>\u001b[0m in \u001b[0;36m<module>\u001b[0;34m\u001b[0m\n\u001b[0;32m----> 1\u001b[0;31m \u001b[0;32mfor\u001b[0m \u001b[0munk\u001b[0m \u001b[0;32min\u001b[0m \u001b[0munique_unks\u001b[0m\u001b[0;34m:\u001b[0m\u001b[0;34m\u001b[0m\u001b[0;34m\u001b[0m\u001b[0m\n\u001b[0m\u001b[1;32m      2\u001b[0m     \u001b[0mprint\u001b[0m\u001b[0;34m(\u001b[0m\u001b[0munk\u001b[0m\u001b[0;34m)\u001b[0m\u001b[0;34m\u001b[0m\u001b[0;34m\u001b[0m\u001b[0m\n",
      "\u001b[0;31mNameError\u001b[0m: name 'unique_unks' is not defined"
     ]
    }
   ],
   "source": [
    "for unk in unique_unks:\n",
    "    print(unk)"
   ]
  },
  {
   "cell_type": "markdown",
   "id": "bb8e4ee1",
   "metadata": {},
   "source": [
    "## Naive Algorithm: Replace targets mapping to source-unks"
   ]
  },
  {
   "cell_type": "code",
   "execution_count": 9,
   "id": "b7781d3e",
   "metadata": {},
   "outputs": [],
   "source": [
    "\n",
    "def replace_unk_from_source(response):\n",
    "    target = response.target.text\n",
    "    replace_ops = []\n",
    "    for sentenceIdx, alignment in enumerate(response.alignments):\n",
    "        for point in alignment:\n",
    "            if response.source.isUnknown(sentenceIdx, point.src):\n",
    "                source = response.source.text\n",
    "                sourceByteRange = response.source.wordAsByteRange(sentenceIdx, point.src)                    \n",
    "                targetByteRange = response.target.wordAsByteRange(sentenceIdx, point.tgt)\n",
    "                replace_ops.append((targetByteRange, sourceByteRange))\n",
    "\n",
    "    replace_ops = sorted(replace_ops, key=lambda x: x[0].begin)\n",
    "    sourceBytes = bytearray(response.source.text.encode())\n",
    "    targetBytes = bytearray(response.target.text.encode())\n",
    "    previous = 0\n",
    "    replaced = bytearray()\n",
    "    for tbr, sbr in replace_ops:\n",
    "        replaced += targetBytes[previous:tbr.begin]\n",
    "        replaced += sourceBytes[sbr.begin:sbr.end]\n",
    "        previous = tbr.end\n",
    "\n",
    "    replaced += targetBytes[previous:]\n",
    "    return replaced.decode(\"utf-8\")\n",
    "\n"
   ]
  },
  {
   "cell_type": "code",
   "execution_count": 10,
   "id": "0d22d5ac",
   "metadata": {},
   "outputs": [],
   "source": [
    "def count_unks_in_source(response):\n",
    "    _sum = 0\n",
    "    for sentenceIdx in range(response.source.numSentences()):\n",
    "        for wordIdx in range(response.source.numWords(sentenceIdx)):\n",
    "            _sum += int(response.source.isUnknown(sentenceIdx, wordIdx))\n",
    "    return _sum"
   ]
  },
  {
   "cell_type": "code",
   "execution_count": 12,
   "id": "d11ebb35",
   "metadata": {
    "scrolled": false
   },
   "outputs": [
    {
     "name": "stdout",
     "output_type": "stream",
     "text": [
      "-- Sample  1 ----\n",
      "[src] >  Pleading Face is the third most popular emoji used on Twitter, and the most commonly found emoji in tweets that include hearts. Used in sequence with pointing hands to indicate a bashful or shy pose (🥺👉👈) particularly on TikTok.\n",
      "[tgt] <  Pleading Gesicht ist die drittbeliebteste Emoji auf Twitter verwendet, und die am weiteesten gefunden E-E-Emoji in Tweets, die Herzen einschließen. Verwendet in der Sequenz mit punktierenden Händchen, um eine verschämte oder scheutliche Pose (🥺👉👈 besonders auf TikTok anzudeuten. .\n",
      "\n",
      "-- Sample  2 ----\n",
      "[src] >  നിങ്ങളുടെ ഈ വിഡിയോ കണ്ടതിനു ശേഷം Michael jackson ന്റെ ഗാനമാണ് ഓർമ വന്നത് just because you read it in a magazine Or see it on the TV screen Don't make it factual, actual\n",
      "[tgt] <  Nur weil Sie es auf dem TV-Fernsehlein auf den Fernsehbildschirm lesen. Machen Sie es nicht s sachlich, tatsächlich, aktuell, tatsächlich\n",
      "\n",
      "-- Sample  3 ----\n",
      "[src] >  🥺 Face with Pleading Eyes\n",
      "[tgt] <  🥺 mit plädierenden Sehnsüchten\n",
      "\n",
      "-- Sample  4 ----\n",
      "[src] >  I'm sure I would be!😘\n",
      "[tgt] <  Ich bin mir sicher, dass ich es sein würde!😘\n",
      "\n",
      "-- Sample  5 ----\n",
      "[src] >  I was bored at work 👌\n",
      "[tgt] <  Ich langweilte mich bei der Arbeit👌👌👌👌\n",
      "\n",
      "-- Sample  6 ----\n",
      "[src] >  Have a great day 😊  Damn.\n",
      "[tgt] <  Haben Sie einen tollen Tag😊dammt. Verdammt.\n",
      "\n",
      "-- Sample  8 ----\n",
      "[src] >  ¯\\\\_(ツ)_/¯\n",
      "[tgt] <  \"¯\\\\_(ツ)_/ ¯¯\n",
      "\n",
      "-- Sample  13 ----\n",
      "[src] >  :’)\n",
      "[tgt] <  :’)\n",
      "\n",
      "-- Sample  16 ----\n",
      "[src] >  !”\n",
      "[tgt] <  !”””\n",
      "\n",
      "-- Sample  17 ----\n",
      "[src] >  !🤣\n",
      "[tgt] <  !🤣🤣🤣\n",
      "\n",
      "-- Sample  20 ----\n",
      "[src] >  ?😋\n",
      "[tgt] <  . ?😋\n",
      "\n",
      "-- Sample  31 ----\n",
      "[src] >  * 😂\n",
      "[tgt] <  * 😂 😂\n",
      "\n",
      "-- Sample  36 ----\n",
      "[src] >  👌?\n",
      "[tgt] <  👌 -?\n",
      "\n",
      "-- Sample  37 ----\n",
      "[src] >  ༽つ**\n",
      "[tgt] <  ༽つ༽つ**\n",
      "\n",
      "-- Sample  38 ----\n",
      "[src] >  😔🤦🏾‍♂️\n",
      "[tgt] <  😔🤦🏾‍♂️ 😔🤦🏾‍♂️\n",
      "\n",
      "-- Sample  39 ----\n",
      "[src] >  🤷🏼‍♀️\n",
      "[tgt] <  🤷🏼‍♀️ 🤷🏼‍♀️\n",
      "\n",
      "-- Sample  40 ----\n",
      "[src] >  🤷‍♀️\n",
      "[tgt] <  🤷‍♀️ 🤷‍♀️\n",
      "\n",
      "-- Sample  41 ----\n",
      "[src] >  😂😂\n",
      "[tgt] <  😂😂 😂😂\n",
      "\n",
      "-- Sample  42 ----\n",
      "[src] >  😅😂\n",
      "[tgt] <  😅😂 😅😂\n",
      "\n",
      "-- Sample  43 ----\n",
      "[src] >  ♥♥\n",
      "[tgt] <  ♥♥ ♥♥\n",
      "\n",
      "-- Sample  44 ----\n",
      "[src] >  😒\n",
      "[tgt] <  😒 😒\n",
      "\n",
      "-- Sample  45 ----\n",
      "[src] >  😂\n",
      "[tgt] <  😂 😂\n",
      "\n"
     ]
    }
   ],
   "source": [
    "samples = open(\"examples.txt\").read().splitlines()    \n",
    "\n",
    "service = build_service(ENDE_BUNDLE)\n",
    "opts = ResponseOptions()\n",
    "opts.alignment = True\n",
    "opts.alignmentThreshold = 1.0\n",
    "\n",
    "for idx, sample in enumerate(samples, 1):\n",
    "    response = service.translate(sample, opts)\n",
    "    if count_unks_in_source(response) > 0:\n",
    "        print(\"-- Sample \", idx, \"----\")\n",
    "        print('[src] > ', sample)\n",
    "        print('[tgt] < ', replace_unk_from_source(response))\n",
    "        print()"
   ]
  },
  {
   "cell_type": "code",
   "execution_count": null,
   "id": "5f65706f",
   "metadata": {
    "scrolled": false
   },
   "outputs": [],
   "source": [
    "samples = sorted(mtnt_monolingual().splitlines(), key=len)\n",
    "\n",
    "with open(\"mtnt_monolingual.log\", \"w+\") as fp:\n",
    "    for idx, sample in enumerate(samples, 1):\n",
    "        response = service.translate(sample, opts)\n",
    "        if count_unks_in_source(response) > 0:\n",
    "            print(\"-- Sample \", idx, \"----\", file=fp)\n",
    "            print('[src] > ', sample, file=fp)\n",
    "            print('[tgt] < ', replace_unk_from_source(response), file=fp)\n",
    "            print(file=fp)"
   ]
  },
  {
   "cell_type": "code",
   "execution_count": 19,
   "id": "a169d444",
   "metadata": {},
   "outputs": [
    {
     "name": "stdout",
     "output_type": "stream",
     "text": [
      "Yeah they're gonna ititch over that $25 :D .\n"
     ]
    }
   ],
   "source": [
    "samples = ['Yeah they’re gonna itch over that $25 :D']\n",
    "response = service.translate(samples[0], opts)\n",
    "print(response.target.text)"
   ]
  },
  {
   "cell_type": "code",
   "execution_count": null,
   "id": "ad775b74",
   "metadata": {},
   "outputs": [],
   "source": [
    "def build_tree(referenceHTML:str, node: DOMElement):\n",
    "    root = TagTree(toByteRange(node))\n",
    "    for child in node.children():\n",
    "        subtree = build_tree(referenceHTML, child)\n",
    "        root.add_subtree(subtree)\n",
    "    return root"
   ]
  }
 ],
 "metadata": {
  "kernelspec": {
   "display_name": "Python 3",
   "language": "python",
   "name": "python3"
  },
  "language_info": {
   "codemirror_mode": {
    "name": "ipython",
    "version": 3
   },
   "file_extension": ".py",
   "mimetype": "text/x-python",
   "name": "python",
   "nbconvert_exporter": "python",
   "pygments_lexer": "ipython3",
   "version": "3.7.7"
  }
 },
 "nbformat": 4,
 "nbformat_minor": 5
}
