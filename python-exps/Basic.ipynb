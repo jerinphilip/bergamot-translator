{
 "cells": [
  {
   "cell_type": "code",
   "execution_count": 1,
   "id": "5049b1e4",
   "metadata": {},
   "outputs": [],
   "source": [
    "import yaml\n",
    "import os\n",
    "import argparse\n",
    "import sys\n",
    "from collections import Counter\n",
    "from collections import defaultdict"
   ]
  },
  {
   "cell_type": "code",
   "execution_count": 2,
   "id": "4b0922ce",
   "metadata": {},
   "outputs": [],
   "source": [
    "sys.path.insert(0, \"../build\")"
   ]
  },
  {
   "cell_type": "code",
   "execution_count": 3,
   "id": "c525bbce",
   "metadata": {},
   "outputs": [],
   "source": [
    "import pybergamot\n",
    "from pybergamot import Service, Response, ResponseOptions"
   ]
  },
  {
   "cell_type": "code",
   "execution_count": 4,
   "id": "4b867902",
   "metadata": {},
   "outputs": [],
   "source": [
    "def build_config(BERGAMOT_ARCHIVE):   \n",
    "    config = {\n",
    "       \"models\": [os.path.join(BERGAMOT_ARCHIVE, \"model.intgemm.alphas.bin\")],\n",
    "       \"shortlist\": [os.path.join(BERGAMOT_ARCHIVE, \"lex.s2t.bin\"), True, 50, 50],\n",
    "       \"vocabs\": [\n",
    "           os.path.join(BERGAMOT_ARCHIVE, \"vocab.deen.spm\"),\n",
    "           os.path.join(BERGAMOT_ARCHIVE, \"vocab.deen.spm\"),\n",
    "           ],\n",
    "       \"ssplit-prefix-file\": os.path.join(BERGAMOT_ARCHIVE, \"nonbreaking_prefix.en\"),\n",
    "       \"max-length-break\": 128,\n",
    "       \"mini-batch-words\": 1024,\n",
    "       \"workspace\": 128,\n",
    "       \"skip-cost\": True,\n",
    "       \"cpu-threads\": 40,\n",
    "       \"quiet\": True,\n",
    "       \"quiet-translation\": True,\n",
    "       \"gemm-precision\": \"int8shiftAlphaAll\",\n",
    "       \"alignment\": True,\n",
    "       \"allow-unk\": True,\n",
    "       \"log\": \"unk-analyis.log\",\n",
    "       \"log-level\": \"debug\"\n",
    "    }\n",
    "    return config"
   ]
  },
  {
   "cell_type": "code",
   "execution_count": 5,
   "id": "9a6b010e",
   "metadata": {},
   "outputs": [],
   "source": [
    "def build_service(bergamot_path):\n",
    "    config = build_config(bergamot_path)\n",
    "    configStr = yaml.dump(config, sort_keys=False)\n",
    "    service = Service(configStr)\n",
    "    return service"
   ]
  },
  {
   "cell_type": "code",
   "execution_count": 6,
   "id": "53aae2fd",
   "metadata": {},
   "outputs": [],
   "source": [
    "ENDE_BUNDLE = '../bergamot-translator-tests/models/deen/ende.student.tiny.for.regression.tests/'"
   ]
  },
  {
   "cell_type": "code",
   "execution_count": 10,
   "id": "66687e23",
   "metadata": {},
   "outputs": [],
   "source": [
    "service = build_service(ENDE_BUNDLE)\n",
    "options = ResponseOptions();\n",
    "options.alignment = True\n",
    "options.qualityScores = True\n",
    "options.alignmentThreshold = 0.2"
   ]
  },
  {
   "cell_type": "code",
   "execution_count": 13,
   "id": "8bc5a105",
   "metadata": {},
   "outputs": [],
   "source": [
    "response = service.translate(\"Hello world\", options)"
   ]
  },
  {
   "cell_type": "code",
   "execution_count": 15,
   "id": "82c8d7b4",
   "metadata": {},
   "outputs": [
    {
     "name": "stdout",
     "output_type": "stream",
     "text": [
      "[src] >  Hello world\n",
      "[tgt] >  Hello-Welt der Welt\n"
     ]
    }
   ],
   "source": [
    "print('[src] > ', response.source.text)\n",
    "print('[tgt] > ', response.target.text)"
   ]
  },
  {
   "cell_type": "code",
   "execution_count": null,
   "id": "1582f430",
   "metadata": {},
   "outputs": [],
   "source": []
  }
 ],
 "metadata": {
  "kernelspec": {
   "display_name": "Python 3",
   "language": "python",
   "name": "python3"
  },
  "language_info": {
   "codemirror_mode": {
    "name": "ipython",
    "version": 3
   },
   "file_extension": ".py",
   "mimetype": "text/x-python",
   "name": "python",
   "nbconvert_exporter": "python",
   "pygments_lexer": "ipython3",
   "version": "3.7.7"
  }
 },
 "nbformat": 4,
 "nbformat_minor": 5
}
